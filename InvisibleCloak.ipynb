{
 "cells": [
  {
   "cell_type": "code",
   "execution_count": 1,
   "metadata": {},
   "outputs": [],
   "source": [
    "import cv2\n",
    "import numpy as np\n",
    "import time\n",
    "count = 0 "
   ]
  },
  {
   "cell_type": "code",
   "execution_count": 2,
   "metadata": {},
   "outputs": [],
   "source": [
    "def readvideo(path_video):# read the video \n",
    "  cap = cv2.VideoCapture(0)\n",
    " \n",
    "  # Check if camera opened successfully\n",
    "  if (cap.isOpened()== False): \n",
    "   print(\"Damaged video\")\n",
    "  else:\n",
    "   return cap"
   ]
  },
  {
   "cell_type": "code",
   "execution_count": 3,
   "metadata": {},
   "outputs": [],
   "source": [
    "def get_background(video):\n",
    "  for i in range(30):\n",
    "    return_val, background = video.read()\n",
    "    if return_val == False :\n",
    "        continue \n",
    "  \n",
    "  background = np.flip(background, axis = 1) \n",
    "\n",
    "  return background"
   ]
  },
  {
   "cell_type": "code",
   "execution_count": 4,
   "metadata": {},
   "outputs": [],
   "source": [
    "def detecte(hsv, lower, upper):\n",
    "    \n",
    "    # Split the HSV channels into individual arrays\n",
    "    h, s, v = hsv[:,:,0], hsv[:,:,1], hsv[:,:,2]\n",
    "    \n",
    "    # Create masks for the lower and upper bounds of each channel\n",
    "    mask_h = np.logical_and(h >= lower[0], h <= upper[0])\n",
    "    mask_s = np.logical_and(s >= lower[1], s <= upper[1])\n",
    "    mask_v = np.logical_and(v >= lower[2], v <= upper[2])\n",
    "    \n",
    "    # Combine the masks into a single binary mask\n",
    "    mask = np.logical_and(mask_h, np.logical_and(mask_s, mask_v))\n",
    "    \n",
    "    return mask.astype(np.uint8)"
   ]
  },
  {
   "cell_type": "code",
   "execution_count": 5,
   "metadata": {},
   "outputs": [],
   "source": [
    "def bgr_to_hsv(image):\n",
    "     #change bgr to rgb\n",
    "    img=image[...,::-1]\n",
    "    r, g, b = img[:,:,0], img[:,:,1], img[:,:,2]\n",
    "\n",
    "    # Convert the BGR channels to floats and normalize to [0, 1]\n",
    "    b = b.astype(np.float32) / 255.0\n",
    "    g = g.astype(np.float32) / 255.0\n",
    "    r = r.astype(np.float32) / 255.0\n",
    "\n",
    "    # Compute the maximum and minimum values of the RGB channels\n",
    "    max_val = np.maximum(np.maximum(r, g), b)\n",
    "    min_val = np.minimum(np.minimum(r, g), b)\n",
    "    delta = max_val - min_val\n",
    "\n",
    "    # Compute the value channel (V)\n",
    "    v = max_val\n",
    "\n",
    "    # Compute the saturation channel (S)\n",
    "    s = np.zeros_like(v)\n",
    "    s[max_val > 0] = delta[max_val > 0] / max_val[max_val > 0]\n",
    "\n",
    "    # Compute the hue channel (H)\n",
    "    h = np.zeros_like(v)\n",
    "    h[max_val == r] = (g[max_val == r] - b[max_val == r]) / delta[max_val == r]\n",
    "    h[max_val == g] = 2 + (b[max_val == g] - r[max_val == g]) / delta[max_val == g]\n",
    "    h[max_val == b] = 4 + (r[max_val == b] - g[max_val == b]) / delta[max_val == b]\n",
    "    h[delta == 0] = 0\n",
    "    h = h / 6.0 % 1.0\n",
    "\n",
    "    # Combine the HSV channels and convert back to uint8\n",
    "    hsv = np.stack((h * 180, s * 255, v * 255), axis=-1).astype(np.uint8)\n",
    "\n",
    "\n",
    "    return hsv"
   ]
  },
  {
   "cell_type": "code",
   "execution_count": 7,
   "metadata": {},
   "outputs": [],
   "source": [
    "def invisible_cloak(video,background,count):\n",
    "  while (video.isOpened()):\n",
    "    return_val, img = video.read()\n",
    "    if not return_val :\n",
    "        break \n",
    "    count = count + 1\n",
    "    img = np.flip(img, axis = 1)\n",
    "  \n",
    "\n",
    "    hsv=bgr_to_hsv(img)\n",
    "  \n",
    "    lower = np.array([90,120,70])\n",
    "    upper = np.array([125,255,255])\n",
    "    mask1 = detecte(hsv,lower,upper)\n",
    "\n",
    "\n",
    "    res1 = cv2.bitwise_and(background,background,mask=mask1)\n",
    "    res2 = cv2.bitwise_and(img,img,mask=cv2.bitwise_not(mask1))\n",
    "    final_output = np.clip(res1.astype(np.int32) + res2.astype(np.int32), 0, 255).astype(np.uint8)\n",
    "    cv2.imshow(\"cloak\", final_output)\n",
    "    k = cv2.waitKey(10)\n",
    "    if k==27:\n",
    "        break\n",
    "  video.release()\n",
    "  cv2.destroyAllWindows()"
   ]
  },
  {
   "cell_type": "code",
   "execution_count": 8,
   "metadata": {},
   "outputs": [
    {
     "name": "stderr",
     "output_type": "stream",
     "text": [
      "/var/folders/_p/ctd4ptxd46z49mdjfj3j1f1w0000gn/T/ipykernel_40657/1383033131.py:25: RuntimeWarning: invalid value encountered in true_divide\n",
      "  h[max_val == r] = (g[max_val == r] - b[max_val == r]) / delta[max_val == r]\n",
      "/var/folders/_p/ctd4ptxd46z49mdjfj3j1f1w0000gn/T/ipykernel_40657/1383033131.py:26: RuntimeWarning: invalid value encountered in true_divide\n",
      "  h[max_val == g] = 2 + (b[max_val == g] - r[max_val == g]) / delta[max_val == g]\n",
      "/var/folders/_p/ctd4ptxd46z49mdjfj3j1f1w0000gn/T/ipykernel_40657/1383033131.py:27: RuntimeWarning: invalid value encountered in true_divide\n",
      "  h[max_val == b] = 4 + (r[max_val == b] - g[max_val == b]) / delta[max_val == b]\n"
     ]
    },
    {
     "ename": "KeyboardInterrupt",
     "evalue": "",
     "output_type": "error",
     "traceback": [
      "\u001b[0;31m---------------------------------------------------------------------------\u001b[0m",
      "\u001b[0;31mKeyboardInterrupt\u001b[0m                         Traceback (most recent call last)",
      "\u001b[0;32m/var/folders/_p/ctd4ptxd46z49mdjfj3j1f1w0000gn/T/ipykernel_40657/2271067696.py\u001b[0m in \u001b[0;36m<module>\u001b[0;34m\u001b[0m\n\u001b[1;32m      1\u001b[0m \u001b[0mvideo\u001b[0m\u001b[0;34m=\u001b[0m\u001b[0mreadvideo\u001b[0m\u001b[0;34m(\u001b[0m\u001b[0;34m'image.jpg'\u001b[0m\u001b[0;34m)\u001b[0m\u001b[0;34m\u001b[0m\u001b[0;34m\u001b[0m\u001b[0m\n\u001b[1;32m      2\u001b[0m \u001b[0mbackground\u001b[0m\u001b[0;34m=\u001b[0m\u001b[0mget_background\u001b[0m\u001b[0;34m(\u001b[0m\u001b[0mvideo\u001b[0m\u001b[0;34m)\u001b[0m\u001b[0;34m\u001b[0m\u001b[0;34m\u001b[0m\u001b[0m\n\u001b[0;32m----> 3\u001b[0;31m \u001b[0minvisible_cloak\u001b[0m\u001b[0;34m(\u001b[0m\u001b[0mvideo\u001b[0m\u001b[0;34m,\u001b[0m\u001b[0mbackground\u001b[0m\u001b[0;34m,\u001b[0m\u001b[0;36m0\u001b[0m\u001b[0;34m)\u001b[0m\u001b[0;34m\u001b[0m\u001b[0;34m\u001b[0m\u001b[0m\n\u001b[0m",
      "\u001b[0;32m/var/folders/_p/ctd4ptxd46z49mdjfj3j1f1w0000gn/T/ipykernel_40657/3623696343.py\u001b[0m in \u001b[0;36minvisible_cloak\u001b[0;34m(video, background, count)\u001b[0m\n\u001b[1;32m     19\u001b[0m \u001b[0;34m\u001b[0m\u001b[0m\n\u001b[1;32m     20\u001b[0m     \u001b[0mres1\u001b[0m \u001b[0;34m=\u001b[0m \u001b[0mcv2\u001b[0m\u001b[0;34m.\u001b[0m\u001b[0mbitwise_and\u001b[0m\u001b[0;34m(\u001b[0m\u001b[0mbackground\u001b[0m\u001b[0;34m,\u001b[0m\u001b[0mbackground\u001b[0m\u001b[0;34m,\u001b[0m\u001b[0mmask\u001b[0m\u001b[0;34m=\u001b[0m\u001b[0mmask1\u001b[0m\u001b[0;34m)\u001b[0m\u001b[0;34m\u001b[0m\u001b[0;34m\u001b[0m\u001b[0m\n\u001b[0;32m---> 21\u001b[0;31m     \u001b[0mres2\u001b[0m \u001b[0;34m=\u001b[0m \u001b[0mcv2\u001b[0m\u001b[0;34m.\u001b[0m\u001b[0mbitwise_and\u001b[0m\u001b[0;34m(\u001b[0m\u001b[0mimg\u001b[0m\u001b[0;34m,\u001b[0m\u001b[0mimg\u001b[0m\u001b[0;34m,\u001b[0m\u001b[0mmask\u001b[0m\u001b[0;34m=\u001b[0m\u001b[0mcv2\u001b[0m\u001b[0;34m.\u001b[0m\u001b[0mbitwise_not\u001b[0m\u001b[0;34m(\u001b[0m\u001b[0mmask1\u001b[0m\u001b[0;34m)\u001b[0m\u001b[0;34m)\u001b[0m\u001b[0;34m\u001b[0m\u001b[0;34m\u001b[0m\u001b[0m\n\u001b[0m\u001b[1;32m     22\u001b[0m     \u001b[0mfinal_output\u001b[0m \u001b[0;34m=\u001b[0m \u001b[0mnp\u001b[0m\u001b[0;34m.\u001b[0m\u001b[0mclip\u001b[0m\u001b[0;34m(\u001b[0m\u001b[0mres1\u001b[0m\u001b[0;34m.\u001b[0m\u001b[0mastype\u001b[0m\u001b[0;34m(\u001b[0m\u001b[0mnp\u001b[0m\u001b[0;34m.\u001b[0m\u001b[0mint32\u001b[0m\u001b[0;34m)\u001b[0m \u001b[0;34m+\u001b[0m \u001b[0mres2\u001b[0m\u001b[0;34m.\u001b[0m\u001b[0mastype\u001b[0m\u001b[0;34m(\u001b[0m\u001b[0mnp\u001b[0m\u001b[0;34m.\u001b[0m\u001b[0mint32\u001b[0m\u001b[0;34m)\u001b[0m\u001b[0;34m,\u001b[0m \u001b[0;36m0\u001b[0m\u001b[0;34m,\u001b[0m \u001b[0;36m255\u001b[0m\u001b[0;34m)\u001b[0m\u001b[0;34m.\u001b[0m\u001b[0mastype\u001b[0m\u001b[0;34m(\u001b[0m\u001b[0mnp\u001b[0m\u001b[0;34m.\u001b[0m\u001b[0muint8\u001b[0m\u001b[0;34m)\u001b[0m\u001b[0;34m\u001b[0m\u001b[0;34m\u001b[0m\u001b[0m\n\u001b[1;32m     23\u001b[0m     \u001b[0mcv2\u001b[0m\u001b[0;34m.\u001b[0m\u001b[0mimshow\u001b[0m\u001b[0;34m(\u001b[0m\u001b[0;34m\"cloak\"\u001b[0m\u001b[0;34m,\u001b[0m \u001b[0mfinal_output\u001b[0m\u001b[0;34m)\u001b[0m\u001b[0;34m\u001b[0m\u001b[0;34m\u001b[0m\u001b[0m\n",
      "\u001b[0;31mKeyboardInterrupt\u001b[0m: "
     ]
    }
   ],
   "source": [
    "video=readvideo('image.jpg')\n",
    "background=get_background(video)\n",
    "invisible_cloak(video,background,0)"
   ]
  }
 ],
 "metadata": {
  "interpreter": {
   "hash": "759088c12779c23c522219c3e909b4a8abebc61b560f86f35e5abbe29ebc1ae3"
  },
  "kernelspec": {
   "display_name": "Python 3.9.15 ('yuxinS')",
   "language": "python",
   "name": "python3"
  },
  "language_info": {
   "codemirror_mode": {
    "name": "ipython",
    "version": 3
   },
   "file_extension": ".py",
   "mimetype": "text/x-python",
   "name": "python",
   "nbconvert_exporter": "python",
   "pygments_lexer": "ipython3",
   "version": "3.9.15"
  },
  "orig_nbformat": 4
 },
 "nbformat": 4,
 "nbformat_minor": 2
}
